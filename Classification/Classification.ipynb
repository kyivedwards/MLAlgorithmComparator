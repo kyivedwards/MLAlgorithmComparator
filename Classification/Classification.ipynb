{
 "cells": [
  {
   "cell_type": "markdown",
   "metadata": {},
   "source": [
    "# 1. Classification"
   ]
  },
  {
   "cell_type": "markdown",
   "metadata": {},
   "source": [
    "## Compare the performance of 8 classifiers across 8 classification datasets."
   ]
  },
  {
   "cell_type": "markdown",
   "metadata": {},
   "source": [
    "### Import Required Libraries"
   ]
  },
  {
   "cell_type": "code",
   "execution_count": 2,
   "metadata": {},
   "outputs": [],
   "source": [
    "import pandas as pd\n",
    "import numpy as np\n",
    "\n",
    "import sklearn\n",
    "from sklearn.linear_model import LogisticRegression\n",
    "from sklearn.svm import LinearSVC\n",
    "from sklearn.tree import DecisionTreeClassifier\n",
    "from sklearn.ensemble import RandomForestClassifier\n",
    "from sklearn.neighbors import KNeighborsClassifier\n",
    "from sklearn.ensemble import AdaBoostClassifier\n",
    "from sklearn.naive_bayes import GaussianNB\n",
    "from sklearn.neural_network import MLPClassifier\n",
    "\n",
    "from sklearn.impute import SimpleImputer\n",
    "\n",
    "from scipy.io.arff import loadarff "
   ]
  },
  {
   "cell_type": "markdown",
   "metadata": {},
   "source": [
    "### Setup"
   ]
  },
  {
   "cell_type": "code",
   "execution_count": 2,
   "metadata": {},
   "outputs": [],
   "source": [
    "TRAIN_SIZE=0.8\n",
    "MODEL_TYPES = [\"Linear Regression\", \"SVM\", \"Decision Tree\", \"Random Forest\", \"K-nearest Neighbors\", \"AdaBoost\", \"Gaussian Naive Bayes\", \"Neural Network\"]\n",
    "DATA_SOURCES = [\"Diabetic Retinopathy\", \"Default of Credit Card Clients\", \"Breast Cancer Wisconsin\", \"Statlog\", \"Adult\", \"Yeast\", \"Thoracic Surgery\", \"Seismic_Bumps\"]\n",
    "\n",
    "# Store data sets in order of DATA_SOURCES.\n",
    "X_training_sets = []\n",
    "X_testing_sets = []\n",
    "y_training_sets = []\n",
    "y_testing_sets = []\n",
    "\n",
    "def store_data(X, y):\n",
    "    imp = SimpleImputer(strategy='mean')\n",
    "    X_train, X_test, y_train, y_test = sklearn.model_selection.train_test_split(np.array(X), np.array(y), train_size=TRAIN_SIZE, random_state=0)\n",
    "    X_training_sets.append(imp.fit_transform(X_train))\n",
    "    X_testing_sets.append(imp.fit_transform(X_test))\n",
    "    y_training_sets.append(y_train)\n",
    "    y_testing_sets.append(y_test)"
   ]
  },
  {
   "cell_type": "markdown",
   "metadata": {},
   "source": [
    "## Dataset 1: Diabetic Retinopathy"
   ]
  },
  {
   "cell_type": "code",
   "execution_count": 3,
   "metadata": {},
   "outputs": [],
   "source": [
    "# Import data\n",
    "raw_data = loadarff('datasets/diabetic_messidor_features.arff')\n",
    "diabetes_df = pd.DataFrame(raw_data[0])\n",
    "diabetes_df.rename(columns={'0': 'Quality',\n",
    "                            '1': 'Pre Screening Result',\n",
    "                            '2': '#MAs at alpha=0.5',\n",
    "                            '3': '#MAs at alpha=0.6',\n",
    "                            '4': '#MAs at alpha=0.7',\n",
    "                            '5': '#MAs at alpha=0.8',\n",
    "                            '6': '#MAs at alpha=0.9',\n",
    "                            '7': '#MAs at alpha=1',\n",
    "                            '8': '#Exudates 1',\n",
    "                            '9': '#Exudates 2',\n",
    "                            '10': '#Exudates 3',\n",
    "                            '11': '#Exudates 4',\n",
    "                            '12': '#Exudates 5',\n",
    "                            '13': '#Exudates 6',\n",
    "                            '14': '#Exudates 7',\n",
    "                            '15': '#Exudates 8',\n",
    "                            '16': 'euclidean distance of the center of the macula and the center of the optic disc',\n",
    "                            '17': 'diameter of the optic disc',\n",
    "                            '18': 'AM/FM Classification'}, inplace=True)\n",
    "# diabetes_df"
   ]
  },
  {
   "cell_type": "code",
   "execution_count": 4,
   "metadata": {},
   "outputs": [],
   "source": [
    "# Configure data\n",
    "Y = diabetes_df['AM/FM Classification']\n",
    "X = diabetes_df.drop('AM/FM Classification', axis=1).drop('Class', axis=1)\n",
    "store_data(X, Y)"
   ]
  },
  {
   "cell_type": "markdown",
   "metadata": {},
   "source": [
    "## Dataset 2: Default of credit card clients"
   ]
  },
  {
   "cell_type": "code",
   "execution_count": 5,
   "metadata": {
    "scrolled": true
   },
   "outputs": [],
   "source": [
    "# Import data\n",
    "credit_df=pd.read_csv('datasets/defaultofcreditcardclients.csv',  sep=',', dtype=int)\n",
    "credit_df\n",
    "\n",
    "Y = credit_df['default payment next month']\n",
    "X = credit_df.drop('default payment next month', axis=1).drop('ID', axis=1)\n",
    "store_data(X, Y)"
   ]
  },
  {
   "cell_type": "markdown",
   "metadata": {},
   "source": [
    "## Dataset 3: Breast Cancer Wisconsin"
   ]
  },
  {
   "cell_type": "code",
   "execution_count": 6,
   "metadata": {},
   "outputs": [],
   "source": [
    "# .names has 11 cols\n",
    "names = [\"ID\", \n",
    "         \"Clump Thickness\", \n",
    "         \"Uniformity of Cell Size\", \n",
    "         \"Uniformity of Cell Shape\", \n",
    "         \"Marginal Adhesion\", \n",
    "         \"Single Epithelial Cell Size\", \n",
    "         \"Bare Nuclei\", \n",
    "         \"Bland Chromatin\", \n",
    "         \"Normal Nucleoli\", \n",
    "         \"Mitoses\", \n",
    "         \"Class\"]       \n",
    "cancer_df = pd.read_csv(\"datasets/breast-cancer-wisconsin.data\", names=names)\n",
    "# cancer_df\n",
    "\n",
    "Y = cancer_df['Class']\n",
    "X = cancer_df.drop('Class', axis=1).drop('ID', axis=1)\n",
    "X = X.replace('?', np.nan)\n",
    "store_data(X, Y)"
   ]
  },
  {
   "cell_type": "markdown",
   "metadata": {},
   "source": [
    "## Dataset 4: Statlog (German credit data)"
   ]
  },
  {
   "cell_type": "code",
   "execution_count": 7,
   "metadata": {},
   "outputs": [],
   "source": [
    "# Import data. Assume last col is assessment.\n",
    "statlog_df = pd.read_csv('datasets/german.data-numeric', delim_whitespace=True, header=None)\n",
    "#statlog_df\n",
    "\n",
    "Y = statlog_df[24]\n",
    "X = statlog_df.drop(24, axis=1)\n",
    "store_data(X, Y)"
   ]
  },
  {
   "cell_type": "markdown",
   "metadata": {},
   "source": [
    "## Dataset 5: Adult"
   ]
  },
  {
   "cell_type": "code",
   "execution_count": 8,
   "metadata": {},
   "outputs": [],
   "source": [
    "# Import data\n",
    "adult_df = pd.read_csv('datasets/adult.data', header=None)\n",
    "# Convert word data into cols of yes/no\n",
    "adult_df = pd.get_dummies(adult_df)\n",
    "# adult_df\n",
    "\n",
    "Y = adult_df['14_ >50K']\n",
    "X = adult_df.drop('14_ >50K', axis=1).drop('14_ <=50K', axis=1)\n",
    "store_data(X, Y)"
   ]
  },
  {
   "cell_type": "markdown",
   "metadata": {},
   "source": [
    "## Dataset 6: Yeast"
   ]
  },
  {
   "cell_type": "code",
   "execution_count": 9,
   "metadata": {},
   "outputs": [],
   "source": [
    "# Import data\n",
    "yeast_df = pd.read_csv('datasets/yeast.data', delim_whitespace=True, header=None)\n",
    "# Ignore Sequence Name as it's unique\n",
    "yeast_df = yeast_df.drop(0, axis=1)\n",
    "# Convert word data into cols of yes/no\n",
    "yeast_df = pd.get_dummies(yeast_df)\n",
    "# yeast_df\n",
    "\n",
    "# Will classify if Cystolic or Not (Including others falls under regression)\n",
    "Y = yeast_df['9_CYT']\n",
    "X = yeast_df.iloc[:, :8]\n",
    "store_data(X, Y)\n"
   ]
  },
  {
   "cell_type": "markdown",
   "metadata": {},
   "source": [
    "## Dataset 7: Thoracic Surgery Data"
   ]
  },
  {
   "cell_type": "code",
   "execution_count": 10,
   "metadata": {},
   "outputs": [],
   "source": [
    "# Import data\n",
    "raw_data = loadarff('datasets/ThoraricSurgery.arff')\n",
    "thoracic_df = pd.DataFrame(raw_data[0])\n",
    "# Don't want to run get_dummies on T/F since it would double it's weight\n",
    "thoracic_df = thoracic_df.replace([b'F'], '0').replace([b'T'], '1')\n",
    "# thoracic_df\n",
    "\n",
    "Y = thoracic_df['Risk1Yr']\n",
    "thoracic_df = thoracic_df.drop('Risk1Yr', axis=1)\n",
    "X = pd.get_dummies(thoracic_df)\n",
    "store_data(X, Y)"
   ]
  },
  {
   "cell_type": "markdown",
   "metadata": {},
   "source": [
    "## Dataset 8: Seismic-Bumps"
   ]
  },
  {
   "cell_type": "code",
   "execution_count": 11,
   "metadata": {},
   "outputs": [],
   "source": [
    "raw_data = loadarff('datasets/seismic-bumps.arff')\n",
    "seismic_df = pd.DataFrame(raw_data[0])\n",
    "seismic_df = seismic_df.replace([b'0'], '0').replace([b'1'], '1')\n",
    "seismic_df\n",
    "\n",
    "Y = seismic_df['class']\n",
    "seismic_df = seismic_df.drop('class', axis=1)\n",
    "X = pd.get_dummies(seismic_df)\n",
    "store_data(X, Y)"
   ]
  },
  {
   "cell_type": "markdown",
   "metadata": {},
   "source": [
    "### Model Phase"
   ]
  },
  {
   "cell_type": "code",
   "execution_count": 12,
   "metadata": {},
   "outputs": [],
   "source": [
    "\n",
    "def generate_models():\n",
    "    # Generate and store default models\n",
    "    classification_models = []\n",
    "    # Logistic Regression\n",
    "    classification_models.append(LogisticRegression(fit_intercept=False, random_state=0))\n",
    "    # SVM\n",
    "    classification_models.append(LinearSVC(C=100, random_state=0))\n",
    "    # Decision Tree\n",
    "    classification_models.append(DecisionTreeClassifier(max_depth=100, random_state=0))\n",
    "    # Random Forest\n",
    "    classification_models.append(RandomForestClassifier(random_state=0))\n",
    "    # K-nearest Neighbors\n",
    "    classification_models.append(KNeighborsClassifier(n_neighbors=8))\n",
    "    # AdaBoost\n",
    "    classification_models.append(AdaBoostClassifier(random_state=0, n_estimators=100))\n",
    "    # Gaussian Naive Bayes\n",
    "    classification_models.append(GaussianNB())\n",
    "    # Neural Network\n",
    "    classification_models.append(MLPClassifier(random_state=0))\n",
    "    \n",
    "    return classification_models"
   ]
  },
  {
   "cell_type": "markdown",
   "metadata": {},
   "source": [
    "### Training Phase"
   ]
  },
  {
   "cell_type": "code",
   "execution_count": 13,
   "metadata": {},
   "outputs": [
    {
     "name": "stdout",
     "output_type": "stream",
     "text": [
      "Training: Diabetic Retinopathy with index 0\n"
     ]
    },
    {
     "name": "stderr",
     "output_type": "stream",
     "text": [
      "C:\\Users\\Sam\\anaconda3\\lib\\site-packages\\sklearn\\linear_model\\_logistic.py:763: ConvergenceWarning: lbfgs failed to converge (status=1):\n",
      "STOP: TOTAL NO. of ITERATIONS REACHED LIMIT.\n",
      "\n",
      "Increase the number of iterations (max_iter) or scale the data as shown in:\n",
      "    https://scikit-learn.org/stable/modules/preprocessing.html\n",
      "Please also refer to the documentation for alternative solver options:\n",
      "    https://scikit-learn.org/stable/modules/linear_model.html#logistic-regression\n",
      "  n_iter_i = _check_optimize_result(\n",
      "C:\\Users\\Sam\\anaconda3\\lib\\site-packages\\sklearn\\svm\\_base.py:985: ConvergenceWarning: Liblinear failed to converge, increase the number of iterations.\n",
      "  warnings.warn(\"Liblinear failed to converge, increase \"\n"
     ]
    },
    {
     "name": "stdout",
     "output_type": "stream",
     "text": [
      "Training: Default of Credit Card Clients with index 1\n"
     ]
    },
    {
     "name": "stderr",
     "output_type": "stream",
     "text": [
      "C:\\Users\\Sam\\anaconda3\\lib\\site-packages\\sklearn\\linear_model\\_logistic.py:763: ConvergenceWarning: lbfgs failed to converge (status=1):\n",
      "STOP: TOTAL NO. of ITERATIONS REACHED LIMIT.\n",
      "\n",
      "Increase the number of iterations (max_iter) or scale the data as shown in:\n",
      "    https://scikit-learn.org/stable/modules/preprocessing.html\n",
      "Please also refer to the documentation for alternative solver options:\n",
      "    https://scikit-learn.org/stable/modules/linear_model.html#logistic-regression\n",
      "  n_iter_i = _check_optimize_result(\n",
      "C:\\Users\\Sam\\anaconda3\\lib\\site-packages\\sklearn\\svm\\_base.py:985: ConvergenceWarning: Liblinear failed to converge, increase the number of iterations.\n",
      "  warnings.warn(\"Liblinear failed to converge, increase \"\n"
     ]
    },
    {
     "name": "stdout",
     "output_type": "stream",
     "text": [
      "Training: Breast Cancer Wisconsin with index 2\n"
     ]
    },
    {
     "name": "stderr",
     "output_type": "stream",
     "text": [
      "C:\\Users\\Sam\\anaconda3\\lib\\site-packages\\sklearn\\svm\\_base.py:985: ConvergenceWarning: Liblinear failed to converge, increase the number of iterations.\n",
      "  warnings.warn(\"Liblinear failed to converge, increase \"\n",
      "C:\\Users\\Sam\\anaconda3\\lib\\site-packages\\sklearn\\neural_network\\_multilayer_perceptron.py:614: ConvergenceWarning: Stochastic Optimizer: Maximum iterations (200) reached and the optimization hasn't converged yet.\n",
      "  warnings.warn(\n",
      "C:\\Users\\Sam\\anaconda3\\lib\\site-packages\\sklearn\\linear_model\\_logistic.py:763: ConvergenceWarning: lbfgs failed to converge (status=1):\n",
      "STOP: TOTAL NO. of ITERATIONS REACHED LIMIT.\n",
      "\n",
      "Increase the number of iterations (max_iter) or scale the data as shown in:\n",
      "    https://scikit-learn.org/stable/modules/preprocessing.html\n",
      "Please also refer to the documentation for alternative solver options:\n",
      "    https://scikit-learn.org/stable/modules/linear_model.html#logistic-regression\n",
      "  n_iter_i = _check_optimize_result(\n",
      "C:\\Users\\Sam\\anaconda3\\lib\\site-packages\\sklearn\\svm\\_base.py:985: ConvergenceWarning: Liblinear failed to converge, increase the number of iterations.\n",
      "  warnings.warn(\"Liblinear failed to converge, increase \"\n"
     ]
    },
    {
     "name": "stdout",
     "output_type": "stream",
     "text": [
      "Training: Statlog with index 3\n"
     ]
    },
    {
     "name": "stderr",
     "output_type": "stream",
     "text": [
      "C:\\Users\\Sam\\anaconda3\\lib\\site-packages\\sklearn\\neural_network\\_multilayer_perceptron.py:614: ConvergenceWarning: Stochastic Optimizer: Maximum iterations (200) reached and the optimization hasn't converged yet.\n",
      "  warnings.warn(\n"
     ]
    },
    {
     "name": "stdout",
     "output_type": "stream",
     "text": [
      "Training: Adult with index 4\n"
     ]
    },
    {
     "name": "stderr",
     "output_type": "stream",
     "text": [
      "C:\\Users\\Sam\\anaconda3\\lib\\site-packages\\sklearn\\svm\\_base.py:985: ConvergenceWarning: Liblinear failed to converge, increase the number of iterations.\n",
      "  warnings.warn(\"Liblinear failed to converge, increase \"\n"
     ]
    },
    {
     "name": "stdout",
     "output_type": "stream",
     "text": [
      "Training: Yeast with index 5\n"
     ]
    },
    {
     "name": "stderr",
     "output_type": "stream",
     "text": [
      "C:\\Users\\Sam\\anaconda3\\lib\\site-packages\\sklearn\\svm\\_base.py:985: ConvergenceWarning: Liblinear failed to converge, increase the number of iterations.\n",
      "  warnings.warn(\"Liblinear failed to converge, increase \"\n",
      "C:\\Users\\Sam\\anaconda3\\lib\\site-packages\\sklearn\\neural_network\\_multilayer_perceptron.py:614: ConvergenceWarning: Stochastic Optimizer: Maximum iterations (200) reached and the optimization hasn't converged yet.\n",
      "  warnings.warn(\n",
      "C:\\Users\\Sam\\anaconda3\\lib\\site-packages\\sklearn\\linear_model\\_logistic.py:763: ConvergenceWarning: lbfgs failed to converge (status=1):\n",
      "STOP: TOTAL NO. of ITERATIONS REACHED LIMIT.\n",
      "\n",
      "Increase the number of iterations (max_iter) or scale the data as shown in:\n",
      "    https://scikit-learn.org/stable/modules/preprocessing.html\n",
      "Please also refer to the documentation for alternative solver options:\n",
      "    https://scikit-learn.org/stable/modules/linear_model.html#logistic-regression\n",
      "  n_iter_i = _check_optimize_result(\n",
      "C:\\Users\\Sam\\anaconda3\\lib\\site-packages\\sklearn\\svm\\_base.py:985: ConvergenceWarning: Liblinear failed to converge, increase the number of iterations.\n",
      "  warnings.warn(\"Liblinear failed to converge, increase \"\n"
     ]
    },
    {
     "name": "stdout",
     "output_type": "stream",
     "text": [
      "Training: Thoracic Surgery with index 6\n"
     ]
    },
    {
     "name": "stderr",
     "output_type": "stream",
     "text": [
      "C:\\Users\\Sam\\anaconda3\\lib\\site-packages\\sklearn\\neural_network\\_multilayer_perceptron.py:614: ConvergenceWarning: Stochastic Optimizer: Maximum iterations (200) reached and the optimization hasn't converged yet.\n",
      "  warnings.warn(\n",
      "C:\\Users\\Sam\\anaconda3\\lib\\site-packages\\sklearn\\svm\\_base.py:985: ConvergenceWarning: Liblinear failed to converge, increase the number of iterations.\n",
      "  warnings.warn(\"Liblinear failed to converge, increase \"\n"
     ]
    },
    {
     "name": "stdout",
     "output_type": "stream",
     "text": [
      "Training: Seismic_Bumps with index 7\n"
     ]
    }
   ],
   "source": [
    "trained_models = []\n",
    "for index, source in enumerate(DATA_SOURCES):\n",
    "    print(\"Training: \" + source + \" with index \" + str(index))\n",
    "    trained_models.append([model.fit(X_training_sets[index], y_training_sets[index]) for model in generate_models()])   "
   ]
  },
  {
   "cell_type": "markdown",
   "metadata": {},
   "source": [
    "### Testing Phase"
   ]
  },
  {
   "cell_type": "code",
   "execution_count": 14,
   "metadata": {},
   "outputs": [
    {
     "name": "stdout",
     "output_type": "stream",
     "text": [
      "Testing: Diabetic Retinopathy\n",
      "Testing: Default of Credit Card Clients\n",
      "Testing: Breast Cancer Wisconsin\n",
      "Testing: Statlog\n",
      "Testing: Adult\n",
      "Testing: Yeast\n",
      "Testing: Thoracic Surgery\n",
      "Testing: Seismic_Bumps\n",
      "Done\n"
     ]
    }
   ],
   "source": [
    "results = np.zeros(64)\n",
    "for index_src, source in enumerate(DATA_SOURCES):\n",
    "    print(\"Testing: \" + source)\n",
    "    for index, model in enumerate(trained_models[index_src]):\n",
    "        results[index_src * 8 + index] = model.score(X_testing_sets[index_src], y_testing_sets[index_src])\n",
    "print(\"Done\")"
   ]
  },
  {
   "cell_type": "code",
   "execution_count": 15,
   "metadata": {
    "scrolled": true
   },
   "outputs": [
    {
     "name": "stdout",
     "output_type": "stream",
     "text": [
      "\t\tLinear Regression\tSVM\tDecision Tree\tRandom Forest\tK-nearest Neighbors\tAdaBoost\tGaussian Naive Bayes\tNeural Network\n",
      "Diabetic Retinopathy\t0.7056277056277056\t0.7316017316017316\t0.7316017316017316\t0.7619047619047619\t0.7272727272727273\t0.7186147186147186\t0.7229437229437229\t0.7229437229437229\n",
      "Default of Credit Card Clients\t0.7838333333333334\t0.7828333333333334\t0.7376666666666667\t0.8216666666666667\t0.7791666666666667\t0.826\t0.36466666666666664\t0.784\n",
      "Breast Cancer Wisconsin\t0.8642857142857143\t0.9714285714285714\t0.9357142857142857\t0.9785714285714285\t0.9785714285714285\t0.9714285714285714\t0.9571428571428572\t0.9714285714285714\n",
      "Statlog\t0.755\t0.51\t0.67\t0.735\t0.725\t0.76\t0.71\t0.745\n",
      "Adult\t0.7930293259634577\t0.7858129894058038\t0.8136035621065562\t0.8484569322892677\t0.785659450330109\t0.8601259020420697\t0.7936434822662367\t0.2838937509596192\n",
      "Yeast\t0.6531986531986532\t0.6632996632996633\t0.6868686868686869\t0.734006734006734\t0.696969696969697\t0.7239057239057239\t0.35353535353535354\t0.6902356902356902\n",
      "Thoracic Surgery\t0.7978723404255319\t0.8085106382978723\t0.7446808510638298\t0.7978723404255319\t0.8085106382978723\t0.8085106382978723\t0.2127659574468085\t0.7978723404255319\n",
      "Seismic_Bumps\t0.9129593810444874\t0.11992263056092843\t0.8955512572533849\t0.9381044487427466\t0.9400386847195358\t0.9361702127659575\t0.9052224371373307\t0.8433268858800773\n"
     ]
    }
   ],
   "source": [
    "results = results.reshape(8, 8)\n",
    "print('\\t', end = '\\t')\n",
    "print(*MODEL_TYPES, sep='\\t')\n",
    "for index, row in enumerate(results):\n",
    "    print(DATA_SOURCES[index], end = '\\t')\n",
    "    print(*row, sep='\\t')"
   ]
  }
 ],
 "metadata": {
  "kernelspec": {
   "display_name": "Python 3",
   "language": "python",
   "name": "python3"
  },
  "language_info": {
   "codemirror_mode": {
    "name": "ipython",
    "version": 3
   },
   "file_extension": ".py",
   "mimetype": "text/x-python",
   "name": "python",
   "nbconvert_exporter": "python",
   "pygments_lexer": "ipython3",
   "version": "3.8.8"
  }
 },
 "nbformat": 4,
 "nbformat_minor": 2
}
