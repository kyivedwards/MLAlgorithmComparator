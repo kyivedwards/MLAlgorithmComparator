{
 "cells": [
  {
   "cell_type": "code",
   "execution_count": 1,
   "id": "922a45b8",
   "metadata": {},
   "outputs": [],
   "source": [
    "import matplotlib.pyplot as plt\n",
    "import numpy as np\n",
    "import pickle"
   ]
  },
  {
   "cell_type": "code",
   "execution_count": 2,
   "id": "f42b25d0",
   "metadata": {},
   "outputs": [],
   "source": [
    "def unpickle(file):\n",
    "    with open(file, 'rb') as fo:\n",
    "        dict = pickle.load(fo, encoding='bytes')\n",
    "    return dict"
   ]
  },
  {
   "cell_type": "code",
   "execution_count": 3,
   "id": "db930688",
   "metadata": {},
   "outputs": [],
   "source": [
    "#creating an instance\n",
    "dd=unpickle('Datasets/data_batch_1')"
   ]
  },
  {
   "cell_type": "code",
   "execution_count": 4,
   "id": "031482dd",
   "metadata": {},
   "outputs": [
    {
     "data": {
      "text/plain": [
       "<matplotlib.image.AxesImage at 0x2d32f0f4280>"
      ]
     },
     "execution_count": 4,
     "metadata": {},
     "output_type": "execute_result"
    },
    {
     "data": {
      "image/png": "[encoded data removed]",
      "text/plain": [
       "<Figure size 432x288 with 1 Axes>"
      ]
     },
     "metadata": {
      "needs_background": "light"
     },
     "output_type": "display_data"
    }
   ],
   "source": [
    "#showing the first image from data\n",
    "img=dd[b'data'][0]\n",
    "img.shape=(32,32,3)\n",
    "plt.imshow(img)"
   ]
  },
  {
   "cell_type": "code",
   "execution_count": 5,
   "id": "079e7b97",
   "metadata": {},
   "outputs": [
    {
     "data": {
      "text/plain": [
       "<matplotlib.image.AxesImage at 0x2d32f89f250>"
      ]
     },
     "execution_count": 5,
     "metadata": {},
     "output_type": "execute_result"
    },
    {
     "data": {
      "image/png": "[encoded data removed]",
      "text/plain": [
       "<Figure size 432x288 with 1 Axes>"
      ]
     },
     "metadata": {
      "needs_background": "light"
     },
     "output_type": "display_data"
    }
   ],
   "source": [
    "#reshaping the data and showing the result\n",
    "img=img.reshape(3,32,32).transpose(1,2,0)\n",
    "plt.imshow(img)"
   ]
  },
  {
   "cell_type": "markdown",
   "id": "b856cf5e",
   "metadata": {},
   "source": [
    "## Train Test Split:"
   ]
  },
  {
   "cell_type": "code",
   "execution_count": 6,
   "id": "c15fcf72",
   "metadata": {},
   "outputs": [
    {
     "data": {
      "text/plain": [
       "array([[ 59,  43,  50, ..., 140,  84,  72],\n",
       "       [154, 126, 105, ..., 139, 142, 144],\n",
       "       [255, 253, 253, ...,  83,  83,  84],\n",
       "       ...,\n",
       "       [ 71,  60,  74, ...,  68,  69,  68],\n",
       "       [250, 254, 211, ..., 215, 255, 254],\n",
       "       [ 62,  61,  60, ..., 130, 130, 131]], dtype=uint8)"
      ]
     },
     "execution_count": 6,
     "metadata": {},
     "output_type": "execute_result"
    }
   ],
   "source": [
    "X=dd[b'data']\n",
    "X"
   ]
  },
  {
   "cell_type": "code",
   "execution_count": 7,
   "id": "6c11b5c7",
   "metadata": {},
   "outputs": [
    {
     "data": {
      "text/plain": [
       "(10000,)"
      ]
     },
     "execution_count": 7,
     "metadata": {},
     "output_type": "execute_result"
    }
   ],
   "source": [
    "Y=np.array(dd[b'labels'])\n",
    "Y.shape"
   ]
  },
  {
   "cell_type": "code",
   "execution_count": 8,
   "id": "a1d07aa3",
   "metadata": {},
   "outputs": [],
   "source": [
    "from sklearn.model_selection import train_test_split\n",
    "\n",
    "# Let's say we want to split the data in 80:10:10 for train:valid:test dataset\n",
    "train_size=0.8\n",
    "\n",
    "\n",
    "# In the first step we will split the data in training and remaining dataset\n",
    "x_train, x_test, y_train, y_test = train_test_split(X,Y, train_size=0.8)"
   ]
  },
  {
   "cell_type": "markdown",
   "id": "193fa2ef",
   "metadata": {},
   "source": [
    "## Model-Creation,Training & Visualization"
   ]
  },
  {
   "cell_type": "code",
   "execution_count": 9,
   "id": "bc568945",
   "metadata": {},
   "outputs": [
    {
     "data": {
      "text/plain": [
       "DecisionTreeClassifier(max_depth=100, random_state=0, splitter='random')"
      ]
     },
     "execution_count": 9,
     "metadata": {},
     "output_type": "execute_result"
    }
   ],
   "source": [
    "from sklearn.tree import DecisionTreeClassifier\n",
    "\n",
    "dc=DecisionTreeClassifier(max_depth=100, random_state=0, splitter='random')\n",
    "dc.fit(x_train,y_train)"
   ]
  },
  {
   "cell_type": "code",
   "execution_count": 10,
   "id": "3650570c",
   "metadata": {},
   "outputs": [],
   "source": [
    "def train_estimators(X, y, estimator_type, **kwargs):\n",
    "    \n",
    "    clf = estimator_type( random_state=0,**kwargs)\n",
    "    clf.fit(X, y)\n",
    "                \n",
    "    return clf"
   ]
  },
  {
   "cell_type": "code",
   "execution_count": 11,
   "id": "94815fa7",
   "metadata": {},
   "outputs": [],
   "source": [
    "def plot_estimator_scores(estimator,**kwargs):\n",
    "    \"\"\"\n",
    "    Plots the training, validation, and testing scores of a list of estimators,\n",
    "    where `param_name` and `param_vals` are the same as for `train_estimators`.\n",
    "    The estimator with best validation score will be highlighted with an 'x'.\n",
    "    \"\"\"\n",
    "    # Your implementation here. Use as many lines as you need.\n",
    "    \n",
    "    x=1\n",
    "    list_tr=[]\n",
    "    list_tst=[]\n",
    "    list_val=[]\n",
    "    list_par_val=[]\n",
    "    estimtr=0\n",
    "    s=-4\n",
    "    s1=-2\n",
    "    for i in range(1,6):\n",
    "        \n",
    "        if estimator==DecisionTreeClassifier or estimator==RandomForestClassifier:\n",
    "        \n",
    "            estimtr=train_estimators(x_train, y_train, estimator,\n",
    "                                    max_depth=i*5*x)\n",
    "        elif estimator==LogisticRegression:\n",
    "            estimtr=train_estimators(x_train, y_train, estimator,\n",
    "                                    C=10**s,max_iter=10000)\n",
    "\n",
    "            s=s+1\n",
    "            \n",
    "        elif estimator==SVC:\n",
    "            \n",
    "            \n",
    "            estimtr=train_estimators(x_train, y_train, estimator,\n",
    "                                    C=10**s1,max_iter=10000,gamma=0.001)\n",
    "            s1=s1+1\n",
    "    \n",
    "        list_tr.append(score_estimators(x_train, y_train,estimtr))\n",
    "#         list_tst.append(score_estimators(X_valid, y_valid,estimtr))\n",
    "        list_tst.append(score_estimators(x_test, y_test,estimtr))\n",
    "        list_par_val.append(i*5*x)\n",
    "        x=x+1\n",
    "        \n",
    "    plt.plot(list_par_val,list_tr, label='training')\n",
    "    plt.scatter(list_par_val,list_tr,)\n",
    "    plt.plot(list_par_val,list_tst, label='testing')\n",
    "    plt.scatter(list_par_val,list_tst)\n",
    "    \n",
    "    plt.legend()\n",
    "    return list_tr,list_tst,list_val"
   ]
  },
  {
   "cell_type": "code",
   "execution_count": 12,
   "id": "03e98aab",
   "metadata": {},
   "outputs": [],
   "source": [
    "def score_estimators(X, y,estimator):\n",
    "    \"\"\"Scores each estimator on (X, y), returning a list of scores.\"\"\"\n",
    "    # Your implementation here. Aim for 1-4 lines.\n",
    "    return estimator.score(X, y)\n"
   ]
  },
  {
   "cell_type": "code",
   "execution_count": 13,
   "id": "71ae2f1a",
   "metadata": {},
   "outputs": [
    {
     "data": {
      "text/plain": [
       "([0.298, 0.991875, 1.0, 1.0, 1.0],\n",
       " [0.2175, 0.2255, 0.2255, 0.2255, 0.2255],\n",
       " [])"
      ]
     },
     "execution_count": 13,
     "metadata": {},
     "output_type": "execute_result"
    },
    {
     "data": {
      "image/png": "[encoded data removed]",
      "text/plain": [
       "<Figure size 432x288 with 1 Axes>"
      ]
     },
     "metadata": {
      "needs_background": "light"
     },
     "output_type": "display_data"
    }
   ],
   "source": [
    "plot_estimator_scores(DecisionTreeClassifier)"
   ]
  },
  {
   "cell_type": "markdown",
   "id": "5fad8309",
   "metadata": {},
   "source": [
    "# Convolution Neural Network"
   ]
  },
  {
   "cell_type": "code",
   "execution_count": 23,
   "id": "c7e7a949",
   "metadata": {},
   "outputs": [],
   "source": [
    "import torch\n",
    "import numpy as np\n",
    "from torchsummary import summary"
   ]
  },
  {
   "cell_type": "code",
   "execution_count": 15,
   "id": "1f45d58a",
   "metadata": {},
   "outputs": [
    {
     "name": "stdout",
     "output_type": "stream",
     "text": [
      "Files already downloaded and verified\n",
      "Files already downloaded and verified\n"
     ]
    }
   ],
   "source": [
    "from torchvision import datasets\n",
    "import torchvision.transforms as transforms\n",
    "from torch.utils.data.sampler import SubsetRandomSampler\n",
    "\n",
    "\n",
    "# number of subprocesses to use for data loading\n",
    "num_workers = 0\n",
    "# how many samples per batch to load\n",
    "batch_size = 20\n",
    "# percentage of training set to use as validation\n",
    "valid_size = 0.2\n",
    "\n",
    "# convert data to a normalized torch.FloatTensor\n",
    "transform = transforms.Compose([\n",
    "    transforms.ToTensor(),\n",
    "    transforms.Normalize((0.5, 0.5, 0.5), (0.5, 0.5, 0.5))\n",
    "    ])\n",
    "\n",
    "# choose the training and test datasets\n",
    "train_data = datasets.CIFAR10('data', train=True,\n",
    "                              download=True, transform=transform)\n",
    "test_data = datasets.CIFAR10('data', train=False,\n",
    "                             download=True, transform=transform)\n",
    "\n",
    "# obtain training indices that will be used for validation\n",
    "num_train = len(train_data)\n",
    "indices = list(range(num_train))\n",
    "np.random.shuffle(indices)\n",
    "split = int(np.floor(valid_size * num_train))\n",
    "train_idx, valid_idx = indices[split:], indices[:split]\n",
    "\n",
    "# define samplers for obtaining training and validation batches\n",
    "train_sampler = SubsetRandomSampler(train_idx)\n",
    "valid_sampler = SubsetRandomSampler(valid_idx)\n",
    "\n",
    "# prepare data loaders (combine dataset and sampler)\n",
    "train_loader = torch.utils.data.DataLoader(train_data, batch_size=batch_size,\n",
    "    sampler=train_sampler, num_workers=num_workers)\n",
    "valid_loader = torch.utils.data.DataLoader(train_data, batch_size=batch_size, \n",
    "    sampler=valid_sampler, num_workers=num_workers)\n",
    "test_loader = torch.utils.data.DataLoader(test_data, batch_size=batch_size, \n",
    "    num_workers=num_workers)\n",
    "\n",
    "# specify the image classes\n",
    "classes = ['airplane', 'automobile', 'bird', 'cat', 'deer',\n",
    "           'dog', 'frog', 'horse', 'ship', 'truck']"
   ]
  },
  {
   "cell_type": "code",
   "execution_count": null,
   "id": "cc2e3ad3",
   "metadata": {},
   "outputs": [],
   "source": []
  },
  {
   "cell_type": "code",
   "execution_count": 16,
   "id": "a35174e1",
   "metadata": {},
   "outputs": [
    {
     "name": "stdout",
     "output_type": "stream",
     "text": [
      "Net(\n",
      "  (conv1): Conv2d(3, 16, kernel_size=(3, 3), stride=(1, 1), padding=(1, 1))\n",
      "  (conv2): Conv2d(16, 32, kernel_size=(3, 3), stride=(1, 1), padding=(1, 1))\n",
      "  (conv3): Conv2d(32, 64, kernel_size=(3, 3), stride=(1, 1), padding=(1, 1))\n",
      "  (pool): MaxPool2d(kernel_size=2, stride=2, padding=0, dilation=1, ceil_mode=False)\n",
      "  (fc1): Linear(in_features=1024, out_features=500, bias=True)\n",
      "  (fc2): Linear(in_features=500, out_features=10, bias=True)\n",
      "  (dropout): Dropout(p=0.25, inplace=False)\n",
      ")\n"
     ]
    }
   ],
   "source": [
    "import torch.nn as nn\n",
    "import torch.nn.functional as F\n",
    "\n",
    "train_on_gpu = False\n",
    "\n",
    "# define the CNN architecture\n",
    "class Net(nn.Module):\n",
    "    def __init__(self):\n",
    "        super(Net, self).__init__()\n",
    "        # convolutional layer (sees 32x32x3 image tensor)\n",
    "        self.conv1 = nn.Conv2d(3, 16, 3, padding=1)\n",
    "        # convolutional layer (sees 16x16x16 tensor)\n",
    "        self.conv2 = nn.Conv2d(16, 32, 3, padding=1)\n",
    "        # convolutional layer (sees 8x8x32 tensor)\n",
    "        self.conv3 = nn.Conv2d(32, 64, 3, padding=1)\n",
    "        # max pooling layer\n",
    "        self.pool = nn.MaxPool2d(2, 2)\n",
    "        # linear layer (64 * 4 * 4 -> 500)\n",
    "        self.fc1 = nn.Linear(64 * 4 * 4, 500)\n",
    "        # linear layer (500 -> 10)\n",
    "        self.fc2 = nn.Linear(500, 10)\n",
    "        # dropout layer (p=0.25)\n",
    "        self.dropout = nn.Dropout(0.25)\n",
    "\n",
    "    def forward(self, x):\n",
    "        # add sequence of convolutional and max pooling layers\n",
    "        x = self.pool(F.relu(self.conv1(x)))\n",
    "        x = self.pool(F.relu(self.conv2(x)))\n",
    "        x = self.pool(F.relu(self.conv3(x)))\n",
    "        # flatten image input\n",
    "        x = x.view(-1, 64 * 4 * 4)\n",
    "        # add dropout layer\n",
    "        x = self.dropout(x)\n",
    "        # add 1st hidden layer, with relu activation function\n",
    "        x = F.relu(self.fc1(x))\n",
    "        # add dropout layer\n",
    "        x = self.dropout(x)\n",
    "        # add 2nd hidden layer, with relu activation function\n",
    "        x = self.fc2(x)\n",
    "        return x\n",
    "\n",
    "# create a complete CNN\n",
    "model = Net()\n",
    "print(model)\n",
    "\n",
    "# move tensors to GPU if CUDA is available\n",
    "if train_on_gpu:\n",
    "    model.cuda()"
   ]
  },
  {
   "cell_type": "code",
   "execution_count": 24,
   "id": "b43bfb9e",
   "metadata": {},
   "outputs": [
    {
     "name": "stdout",
     "output_type": "stream",
     "text": [
      "----------------------------------------------------------------\n",
      "        Layer (type)               Output Shape         Param #\n",
      "================================================================\n",
      "            Conv2d-1           [-1, 16, 32, 32]             448\n",
      "         MaxPool2d-2           [-1, 16, 16, 16]               0\n",
      "            Conv2d-3           [-1, 32, 16, 16]           4,640\n",
      "         MaxPool2d-4             [-1, 32, 8, 8]               0\n",
      "            Conv2d-5             [-1, 64, 8, 8]          18,496\n",
      "         MaxPool2d-6             [-1, 64, 4, 4]               0\n",
      "           Dropout-7                 [-1, 1024]               0\n",
      "            Linear-8                  [-1, 500]         512,500\n",
      "           Dropout-9                  [-1, 500]               0\n",
      "           Linear-10                   [-1, 10]           5,010\n",
      "================================================================\n",
      "Total params: 541,094\n",
      "Trainable params: 541,094\n",
      "Non-trainable params: 0\n",
      "----------------------------------------------------------------\n",
      "Input size (MB): 0.01\n",
      "Forward/backward pass size (MB): 0.29\n",
      "Params size (MB): 2.06\n",
      "Estimated Total Size (MB): 2.36\n",
      "----------------------------------------------------------------\n"
     ]
    }
   ],
   "source": [
    "summary(model, (3,32,32))"
   ]
  },
  {
   "cell_type": "code",
   "execution_count": 17,
   "id": "3f79fb3a",
   "metadata": {},
   "outputs": [],
   "source": [
    "import torch.optim as optim\n",
    "\n",
    "# specify loss function (categorical cross-entropy)\n",
    "criterion = nn.CrossEntropyLoss()\n",
    "\n",
    "# specify optimizer\n",
    "optimizer = optim.SGD(model.parameters(), lr=0.01)"
   ]
  },
  {
   "cell_type": "markdown",
   "id": "1c36f664",
   "metadata": {},
   "source": [
    "## Train the Network\n",
    "Remember to look at how the training and validation loss decreases over time; if the validation loss ever increases it indicates possible overfitting. (In fact, in the below example, we could have stopped around epoch 33 or so!)"
   ]
  },
  {
   "cell_type": "code",
   "execution_count": 21,
   "id": "e4ea0d11",
   "metadata": {},
   "outputs": [
    {
     "name": "stdout",
     "output_type": "stream",
     "text": [
      "Epoch: 1 \tTraining Loss: 1.161567 \tValidation Loss: 1.109509\n",
      "Validation loss decreased (inf --> 1.109509).  Saving model ...\n",
      "Epoch: 2 \tTraining Loss: 1.092997 \tValidation Loss: 1.058327\n",
      "Validation loss decreased (1.109509 --> 1.058327).  Saving model ...\n",
      "Epoch: 3 \tTraining Loss: 1.029492 \tValidation Loss: 1.007341\n",
      "Validation loss decreased (1.058327 --> 1.007341).  Saving model ...\n",
      "Epoch: 4 \tTraining Loss: 0.976993 \tValidation Loss: 0.936806\n",
      "Validation loss decreased (1.007341 --> 0.936806).  Saving model ...\n",
      "Epoch: 5 \tTraining Loss: 0.926721 \tValidation Loss: 0.907022\n",
      "Validation loss decreased (0.936806 --> 0.907022).  Saving model ...\n",
      "Epoch: 6 \tTraining Loss: 0.882926 \tValidation Loss: 0.860414\n",
      "Validation loss decreased (0.907022 --> 0.860414).  Saving model ...\n",
      "Epoch: 7 \tTraining Loss: 0.847395 \tValidation Loss: 0.837179\n",
      "Validation loss decreased (0.860414 --> 0.837179).  Saving model ...\n",
      "Epoch: 8 \tTraining Loss: 0.804651 \tValidation Loss: 0.818304\n",
      "Validation loss decreased (0.837179 --> 0.818304).  Saving model ...\n",
      "Epoch: 9 \tTraining Loss: 0.770041 \tValidation Loss: 0.793523\n",
      "Validation loss decreased (0.818304 --> 0.793523).  Saving model ...\n",
      "Epoch: 10 \tTraining Loss: 0.735798 \tValidation Loss: 0.828904\n",
      "Epoch: 11 \tTraining Loss: 0.708871 \tValidation Loss: 0.782132\n",
      "Validation loss decreased (0.793523 --> 0.782132).  Saving model ...\n",
      "Epoch: 12 \tTraining Loss: 0.675638 \tValidation Loss: 0.755857\n",
      "Validation loss decreased (0.782132 --> 0.755857).  Saving model ...\n",
      "Epoch: 13 \tTraining Loss: 0.648295 \tValidation Loss: 0.733692\n",
      "Validation loss decreased (0.755857 --> 0.733692).  Saving model ...\n",
      "Epoch: 14 \tTraining Loss: 0.618333 \tValidation Loss: 0.746789\n",
      "Epoch: 15 \tTraining Loss: 0.591900 \tValidation Loss: 0.749029\n",
      "Epoch: 16 \tTraining Loss: 0.570895 \tValidation Loss: 0.773641\n",
      "Epoch: 17 \tTraining Loss: 0.540534 \tValidation Loss: 0.719279\n",
      "Validation loss decreased (0.733692 --> 0.719279).  Saving model ...\n",
      "Epoch: 18 \tTraining Loss: 0.517147 \tValidation Loss: 0.717287\n",
      "Validation loss decreased (0.719279 --> 0.717287).  Saving model ...\n",
      "Epoch: 19 \tTraining Loss: 0.494792 \tValidation Loss: 0.732984\n",
      "Epoch: 20 \tTraining Loss: 0.473234 \tValidation Loss: 0.734777\n"
     ]
    }
   ],
   "source": [
    "# number of epochs to train the model\n",
    "n_epochs = 20\n",
    "\n",
    "valid_loss_min = np.Inf # track change in validation loss\n",
    "\n",
    "for epoch in range(1, n_epochs+1):\n",
    "\n",
    "    # keep track of training and validation loss\n",
    "    train_loss = 0.0\n",
    "    valid_loss = 0.0\n",
    "    \n",
    "    ###################\n",
    "    # train the model #\n",
    "    ###################\n",
    "    model.train()\n",
    "    for data, target in train_loader:\n",
    "\n",
    "        optimizer.zero_grad()\n",
    "        # forward pass: compute predicted outputs by passing inputs to the model\n",
    "        output = model(data)\n",
    "        # calculate the batch loss\n",
    "        loss = criterion(output, target)\n",
    "        # backward pass: compute gradient of the loss with respect to model parameters\n",
    "        loss.backward()\n",
    "        # perform a single optimization step (parameter update)\n",
    "        optimizer.step()\n",
    "        # update training loss\n",
    "        train_loss += loss.item()*data.size(0)\n",
    "        \n",
    "    ######################    \n",
    "    # validate the model #\n",
    "    ######################\n",
    "    model.eval()\n",
    "    for data, target in valid_loader:\n",
    "\n",
    "        output = model(data)\n",
    "        # calculate the batch loss\n",
    "        loss = criterion(output, target)\n",
    "        # update average validation loss \n",
    "        valid_loss += loss.item()*data.size(0)\n",
    "    \n",
    "    # calculate average losses\n",
    "    train_loss = train_loss/len(train_loader.sampler)\n",
    "    valid_loss = valid_loss/len(valid_loader.sampler)\n",
    "        \n",
    "    # print training/validation statistics \n",
    "    print('Epoch: {} \\tTraining Loss: {:.6f} \\tValidation Loss: {:.6f}'.format(\n",
    "        epoch, train_loss, valid_loss))\n",
    "    \n",
    "    # save model if validation loss has decreased\n",
    "    if valid_loss <= valid_loss_min:\n",
    "        print('Validation loss decreased ({:.6f} --> {:.6f}).  Saving model ...'.format(\n",
    "        valid_loss_min,\n",
    "        valid_loss))\n",
    "        torch.save(model.state_dict(), 'model_cifar.pt')\n",
    "        valid_loss_min = valid_loss"
   ]
  },
  {
   "cell_type": "markdown",
   "id": "0e98d365",
   "metadata": {},
   "source": [
    "## Test the Trained Network\n",
    "Test your trained model on previously unseen data! A \"good\" result will be a CNN that gets around 70% (or more, try your best!) accuracy on these test images."
   ]
  },
  {
   "cell_type": "code",
   "execution_count": 22,
   "id": "82cbfef4",
   "metadata": {},
   "outputs": [
    {
     "name": "stdout",
     "output_type": "stream",
     "text": [
      "Test Loss: 0.736681\n",
      "\n",
      "Test Accuracy of airplane: 79% (798/1000)\n",
      "Test Accuracy of automobile: 89% (894/1000)\n",
      "Test Accuracy of  bird: 58% (587/1000)\n",
      "Test Accuracy of   cat: 51% (518/1000)\n",
      "Test Accuracy of  deer: 69% (691/1000)\n",
      "Test Accuracy of   dog: 72% (725/1000)\n",
      "Test Accuracy of  frog: 89% (897/1000)\n",
      "Test Accuracy of horse: 76% (761/1000)\n",
      "Test Accuracy of  ship: 85% (858/1000)\n",
      "Test Accuracy of truck: 80% (807/1000)\n",
      "\n",
      "Test Accuracy (Overall): 75% (7536/10000)\n"
     ]
    }
   ],
   "source": [
    "# track test loss\n",
    "test_loss = 0.0\n",
    "class_correct = list(0. for i in range(10))\n",
    "class_total = list(0. for i in range(10))\n",
    "model.eval()\n",
    "# iterate over test data\n",
    "for data, target in test_loader:\n",
    "    \n",
    "    # forward pass: compute predicted outputs by passing inputs to the model\n",
    "    output = model(data)\n",
    "    # calculate the batch loss\n",
    "    loss = criterion(output, target)\n",
    "    # update test loss \n",
    "    test_loss += loss.item()*data.size(0)\n",
    "    # convert output probabilities to predicted class\n",
    "    _, pred = torch.max(output, 1)    \n",
    "    # compare predictions to true label\n",
    "    correct_tensor = pred.eq(target.data.view_as(pred))\n",
    "    correct = np.squeeze(correct_tensor.numpy()) if not train_on_gpu else np.squeeze(correct_tensor.cpu().numpy())\n",
    "    # calculate test accuracy for each object class\n",
    "    for i in range(batch_size):\n",
    "        label = target.data[i]\n",
    "        class_correct[label] += correct[i].item()\n",
    "        class_total[label] += 1\n",
    "\n",
    "# average test loss\n",
    "test_loss = test_loss/len(test_loader.dataset)\n",
    "print('Test Loss: {:.6f}\\n'.format(test_loss))\n",
    "\n",
    "for i in range(10):\n",
    "    if class_total[i] > 0:\n",
    "        print('Test Accuracy of %5s: %2d%% (%2d/%2d)' % (\n",
    "            classes[i], 100 * class_correct[i] / class_total[i],\n",
    "            np.sum(class_correct[i]), np.sum(class_total[i])))\n",
    "    else:\n",
    "        print('Test Accuracy of %5s: N/A (no training examples)' % (classes[i]))\n",
    "\n",
    "print('\\nTest Accuracy (Overall): %2d%% (%2d/%2d)' % (\n",
    "    100. * np.sum(class_correct) / np.sum(class_total),\n",
    "    np.sum(class_correct), np.sum(class_total)))"
   ]
  }
 ],
 "metadata": {
  "kernelspec": {
   "display_name": "Python 3",
   "language": "python",
   "name": "python3"
  },
  "language_info": {
   "codemirror_mode": {
    "name": "ipython",
    "version": 3
   },
   "file_extension": ".py",
   "mimetype": "text/x-python",
   "name": "python",
   "nbconvert_exporter": "python",
   "pygments_lexer": "ipython3",
   "version": "3.8.8"
  }
 },
 "nbformat": 4,
 "nbformat_minor": 5
}
