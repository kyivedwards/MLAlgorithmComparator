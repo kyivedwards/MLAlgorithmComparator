{
 "cells": [
  {
   "cell_type": "markdown",
   "id": "8cab5b4e",
   "metadata": {},
   "source": [
    "# Description:\n",
    "\n",
    "    In this part of project, I performed the classification of CIFAR-10 dataset (which consists of 60000 32x32 colour images in 10 classes, with 6000 images per class) using simple neural network. I performed the similar task in 'Classifier-Interpretability' but by using Convolution Neural Network, but here i performed it by using simple Neural network."
   ]
  },
  {
   "cell_type": "code",
   "execution_count": 1,
   "id": "911e43e3",
   "metadata": {},
   "outputs": [],
   "source": [
    "import torch\n",
    "from torch import nn\n",
    "import torch.nn.functional as F\n",
    "from torchvision import datasets, transforms\n",
    "from torch import optim\n"
   ]
  },
  {
   "cell_type": "markdown",
   "id": "5490b17a",
   "metadata": {},
   "source": [
    "# Downloading Data"
   ]
  },
  {
   "cell_type": "code",
   "execution_count": 2,
   "id": "df05d6cf",
   "metadata": {},
   "outputs": [
    {
     "name": "stdout",
     "output_type": "stream",
     "text": [
      "Downloading https://www.cs.toronto.edu/~kriz/cifar-10-python.tar.gz to data\\cifar-10-python.tar.gz\n"
     ]
    },
    {
     "data": {
      "application/vnd.jupyter.widget-view+json": {
       "model_id": "c2dd8c3f50f84ecab5e6fb84db11bf7a",
       "version_major": 2,
       "version_minor": 0
      },
      "text/plain": [
       "  0%|          | 0/170498071 [00:00<?, ?it/s]"
      ]
     },
     "metadata": {},
     "output_type": "display_data"
    },
    {
     "name": "stdout",
     "output_type": "stream",
     "text": [
      "Extracting data\\cifar-10-python.tar.gz to data\n",
      "Files already downloaded and verified\n"
     ]
    }
   ],
   "source": [
    "# number of subprocesses to use for data loading\n",
    "num_workers = 0\n",
    "# how many samples per batch to load\n",
    "batch_size = 20\n",
    "# percentage of training set to use as validation\n",
    "valid_size = 0.2\n",
    "\n",
    "# convert data to a normalized torch.FloatTensor\n",
    "transform = transforms.Compose([\n",
    "    transforms.ToTensor(),\n",
    "    transforms.Normalize((0.5, 0.5, 0.5), (0.5, 0.5, 0.5))\n",
    "    ])\n",
    "\n",
    "# choose the training and test datasets\n",
    "train_data = datasets.CIFAR10('data', train=True,\n",
    "                              download=True, transform=transform)\n",
    "test_data = datasets.CIFAR10('data', train=False,\n",
    "                             download=True, transform=transform)\n"
   ]
  },
  {
   "cell_type": "code",
   "execution_count": 3,
   "id": "427e9585",
   "metadata": {},
   "outputs": [],
   "source": [
    "#preparing data to use for training and testing\n",
    "trainloader = torch.utils.data.DataLoader(train_data, batch_size=64, shuffle=True)\n",
    "testloader = torch.utils.data.DataLoader(test_data, batch_size=64, shuffle=True)"
   ]
  },
  {
   "cell_type": "code",
   "execution_count": null,
   "id": "96fda84b",
   "metadata": {},
   "outputs": [],
   "source": []
  },
  {
   "cell_type": "markdown",
   "id": "aff701d6",
   "metadata": {},
   "source": [
    "# Preparing the Model:"
   ]
  },
  {
   "cell_type": "code",
   "execution_count": 4,
   "id": "2f0f170b",
   "metadata": {},
   "outputs": [
    {
     "name": "stdout",
     "output_type": "stream",
     "text": [
      "Training loss: 2.3030110917737723\n",
      "Training loss: 2.297347385560155\n",
      "Training loss: 2.2892305164995705\n",
      "Training loss: 2.271051549545639\n",
      "Training loss: 2.2197014642188617\n",
      "Training loss: 2.1349926174754073\n",
      "Training loss: 2.0484177758321738\n",
      "Training loss: 1.9746740791193969\n",
      "Training loss: 1.916922664550869\n",
      "Training loss: 1.8643530003554987\n",
      "Training loss: 1.8159899781731998\n",
      "Training loss: 1.771785099183202\n",
      "Training loss: 1.729953258543673\n",
      "Training loss: 1.6899296139817104\n",
      "Training loss: 1.6523250002995171\n",
      "Training loss: 1.6194021226195119\n",
      "Training loss: 1.5893274983176795\n",
      "Training loss: 1.5606901641087154\n",
      "Training loss: 1.53184601748386\n",
      "Training loss: 1.5032461117905425\n",
      "Training loss: 1.4755301884068248\n",
      "Training loss: 1.4488104112312923\n",
      "Training loss: 1.420985269272114\n",
      "Training loss: 1.3932349427276864\n",
      "Training loss: 1.3675845323316276\n",
      "Training loss: 1.341305897135259\n",
      "Training loss: 1.3147959509469054\n",
      "Training loss: 1.2882611035081126\n",
      "Training loss: 1.2630675206403903\n",
      "Training loss: 1.2379332366959213\n",
      "Training loss: 1.2108084660814242\n",
      "Training loss: 1.1871174768261288\n",
      "Training loss: 1.1607393152116205\n",
      "Training loss: 1.1397832539075476\n",
      "Training loss: 1.1130828136373359\n",
      "Training loss: 1.0886878452032729\n",
      "Training loss: 1.065002289117145\n",
      "Training loss: 1.0436078939596405\n",
      "Training loss: 1.0170346564801453\n",
      "Training loss: 0.9956979964242871\n",
      "Training loss: 0.9752335008757803\n",
      "Training loss: 0.95380997078498\n",
      "Training loss: 0.9308356717419441\n",
      "Training loss: 0.9104001512155508\n",
      "Training loss: 0.8898871485382089\n",
      "Training loss: 0.8562574099244364\n",
      "Training loss: 0.8341979153473359\n",
      "Training loss: 0.8221588675933116\n",
      "Training loss: 0.8092954990351596\n",
      "Training loss: 0.7728743977711329\n",
      "Training loss: 0.7594208326333624\n",
      "Training loss: 0.7345649102307341\n",
      "Training loss: 0.7224822868700223\n",
      "Training loss: 0.7018022363448082\n",
      "Training loss: 0.6682580183915166\n",
      "Training loss: 0.6704867099557081\n",
      "Training loss: 0.6276037112983597\n",
      "Training loss: 0.6257960491092004\n",
      "Training loss: 0.6073251725615137\n",
      "Training loss: 0.6014505774544938\n",
      "Training loss: 0.5575716687590265\n",
      "Training loss: 0.558097730664646\n",
      "Training loss: 0.5287815405203559\n",
      "Training loss: 0.5348083410612152\n",
      "Training loss: 0.5048474646209146\n",
      "Training loss: 0.4780146447593904\n",
      "Training loss: 0.46766622768491123\n",
      "Training loss: 0.44842443767639684\n",
      "Training loss: 0.4409868608960105\n",
      "Training loss: 0.44009866536883135\n",
      "Training loss: 0.42392403737205986\n",
      "Training loss: 0.38838999069598323\n",
      "Training loss: 0.36571657752899256\n",
      "Training loss: 0.38762589723176666\n",
      "Training loss: 0.3601189048775017\n",
      "Training loss: 0.34166445737452156\n",
      "Training loss: 0.3032695966513108\n",
      "Training loss: 0.3256613990134748\n",
      "Training loss: 0.2842245113361827\n",
      "Training loss: 0.2854891966771134\n",
      "Training loss: 0.3117533062425111\n",
      "Training loss: 0.2539486275590442\n",
      "Training loss: 0.27503783293925893\n",
      "Training loss: 0.287639445189358\n",
      "Training loss: 0.19809954108484565\n",
      "Training loss: 0.2586955533784521\n",
      "Training loss: 0.1932889105671126\n",
      "Training loss: 0.15267848602646147\n",
      "Training loss: 0.2569975204708631\n",
      "Training loss: 0.15248235069272464\n",
      "Training loss: 0.2242303650607081\n",
      "Training loss: 0.1518910630556095\n",
      "Training loss: 0.1997723245273923\n",
      "Training loss: 0.12139600122828617\n",
      "Training loss: 0.18268445049843673\n",
      "Training loss: 0.08711005350374772\n",
      "Training loss: 0.17957955786524832\n",
      "Training loss: 0.1428414267699813\n",
      "Training loss: 0.07712677855978307\n",
      "Training loss: 0.15368564796331516\n"
     ]
    }
   ],
   "source": [
    "model = nn.Sequential(nn.Linear(3072,1536),\n",
    "                      nn.ReLU(),\n",
    "                      nn.Linear(1536, 768),\n",
    "                      nn.ReLU(),\n",
    "                      nn.Linear(768,128),\n",
    "                      nn.ReLU(),\n",
    "                      nn.Linear(128, 64),\n",
    "                      nn.ReLU(),\n",
    "                      nn.Linear(64, 10),\n",
    "                      nn.LogSoftmax(dim=1))\n",
    "\n",
    "criterion = nn.NLLLoss()\n",
    "optimizer = optim.SGD(model.parameters(), lr=0.003)\n",
    "\n",
    "epochs = 100\n",
    "for e in range(epochs):\n",
    "    running_loss = 0\n",
    "    for images, labels in trainloader:\n",
    "        # Flatten MNIST images into a 784 long vector\n",
    "        images = images.view(images.shape[0], -1)\n",
    "    \n",
    "        # TODO: Training pass\n",
    "        optimizer.zero_grad()\n",
    "        \n",
    "        output = model(images)\n",
    "        loss = criterion(output, labels)\n",
    "        loss.backward()\n",
    "        optimizer.step()\n",
    "#         print(loss.item())\n",
    "        running_loss += loss.item()\n",
    "    else:\n",
    "        print(f\"Training loss: {running_loss/len(trainloader)}\")"
   ]
  },
  {
   "cell_type": "code",
   "execution_count": 5,
   "id": "51d5eed4",
   "metadata": {},
   "outputs": [],
   "source": [
    "images_t, labels_t = next(iter(testloader))\n"
   ]
  },
  {
   "cell_type": "code",
   "execution_count": 6,
   "id": "b02cb266",
   "metadata": {},
   "outputs": [
    {
     "data": {
      "text/plain": [
       "torch.Size([64, 3, 32, 32])"
      ]
     },
     "execution_count": 6,
     "metadata": {},
     "output_type": "execute_result"
    }
   ],
   "source": [
    "images_t.shape"
   ]
  },
  {
   "cell_type": "code",
   "execution_count": 7,
   "id": "f6a7cc7d",
   "metadata": {},
   "outputs": [],
   "source": [
    "images_t=images_t.view(images_t.shape[0], -1)"
   ]
  },
  {
   "cell_type": "code",
   "execution_count": 8,
   "id": "ac742c01",
   "metadata": {},
   "outputs": [
    {
     "data": {
      "text/plain": [
       "torch.Size([64, 3072])"
      ]
     },
     "execution_count": 8,
     "metadata": {},
     "output_type": "execute_result"
    }
   ],
   "source": [
    "images_t.shape"
   ]
  },
  {
   "cell_type": "markdown",
   "id": "47d65cb9",
   "metadata": {},
   "source": [
    "The goal of validation is to measure the model's performance on data that isn't part of the training set. Performance here is up to the developer to define though. Typically this is just accuracy, the percentage of classes the network predicted correctly. Other options are precision and recall and top-5 error rate. We'll focus on accuracy here. First I'll do a forward pass with one batch from the test set."
   ]
  },
  {
   "cell_type": "code",
   "execution_count": 9,
   "id": "9efef054",
   "metadata": {},
   "outputs": [
    {
     "name": "stdout",
     "output_type": "stream",
     "text": [
      "torch.Size([64, 10])\n"
     ]
    }
   ],
   "source": [
    "# images_t, labels_t = next(iter(testloader))\n",
    "# images_t=images_t.view(images_t.shape[0], -1)\n",
    "# Get the class probabilities\n",
    "ps = torch.exp(model(images_t))\n",
    "# # Make sure the shape is appropriate, we should get 10 class probabilities for 64 examples\n",
    "print(ps.shape)"
   ]
  },
  {
   "cell_type": "markdown",
   "id": "0ea1b910",
   "metadata": {},
   "source": [
    "With the probabilities, we can get the most likely class using the ps.topk method. This returns the  𝑘  highest values. Since we just want the most likely class, we can use ps.topk(1). This returns a tuple of the top- 𝑘  values and the top- 𝑘  indices. If the highest value is the fifth element, we'll get back 4 as the index."
   ]
  },
  {
   "cell_type": "code",
   "execution_count": 10,
   "id": "dd294eaf",
   "metadata": {},
   "outputs": [
    {
     "name": "stdout",
     "output_type": "stream",
     "text": [
      "tensor([[0],\n",
      "        [0],\n",
      "        [0],\n",
      "        [5],\n",
      "        [6],\n",
      "        [6],\n",
      "        [6],\n",
      "        [6],\n",
      "        [0],\n",
      "        [8]]) 64\n"
     ]
    }
   ],
   "source": [
    "top_p, top_class = ps.topk(1, dim=1)\n",
    "# Look at the most likely classes for the first 10 examples\n",
    "print(top_class[:10,:],len(top_class[:,:]))"
   ]
  },
  {
   "cell_type": "markdown",
   "id": "413cda58",
   "metadata": {},
   "source": [
    "Equals is comparing the one element in each row of top_class with each element in labels"
   ]
  },
  {
   "cell_type": "code",
   "execution_count": 11,
   "id": "ae659595",
   "metadata": {},
   "outputs": [],
   "source": [
    "equals = top_class == labels_t.view(*top_class.shape)"
   ]
  },
  {
   "cell_type": "code",
   "execution_count": 12,
   "id": "6ca89e5a",
   "metadata": {},
   "outputs": [
    {
     "name": "stdout",
     "output_type": "stream",
     "text": [
      "Accuracy: 42.1875%\n"
     ]
    }
   ],
   "source": [
    "accuracy = torch.mean(equals.type(torch.FloatTensor))\n",
    "print(f'Accuracy: {accuracy.item()*100}%')"
   ]
  },
  {
   "cell_type": "code",
   "execution_count": null,
   "id": "65fff8bd",
   "metadata": {},
   "outputs": [],
   "source": []
  }
 ],
 "metadata": {
  "kernelspec": {
   "display_name": "Python 3",
   "language": "python",
   "name": "python3"
  },
  "language_info": {
   "codemirror_mode": {
    "name": "ipython",
    "version": 3
   },
   "file_extension": ".py",
   "mimetype": "text/x-python",
   "name": "python",
   "nbconvert_exporter": "python",
   "pygments_lexer": "ipython3",
   "version": "3.8.8"
  }
 },
 "nbformat": 4,
 "nbformat_minor": 5
}
